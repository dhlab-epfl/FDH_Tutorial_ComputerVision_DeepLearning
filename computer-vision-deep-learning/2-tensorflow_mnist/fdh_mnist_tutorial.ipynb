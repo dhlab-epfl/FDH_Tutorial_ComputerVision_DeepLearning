{
  "nbformat": 4,
  "nbformat_minor": 0,
  "metadata": {
    "colab": {
      "name": "fdh-mnist-tutorial.ipynb",
      "provenance": [],
      "collapsed_sections": [],
      "toc_visible": true
    },
    "kernelspec": {
      "name": "python3",
      "display_name": "Python 3"
    }
  },
  "cells": [
    {
      "cell_type": "markdown",
      "metadata": {
        "id": "C9vd4w5t59jV",
        "colab_type": "text"
      },
      "source": [
        "# MNIST Tutorial : classify digits using Tensorflow\n",
        "\n",
        "[![Open In Colab](https://colab.research.google.com/assets/colab-badge.svg)](https://colab.research.google.com/drive/1D2-o8EbrqNbwvaKv1ZFkTIectqdnZV2L?pli=1#scrollTo=RSJWPffckbO2)\n",
        "\n",
        "**Don't forget to turn on the GPU for the training** \n",
        "\n",
        "Runtime > Change runtime type > Hardware accelerator > GPU\n",
        "\n",
        "In order to save your work you should add the colab notebook to your personnal gdrive (otherwise your changes will not be saved).\n",
        "\n",
        "This tutorial is an introduction to tensorflow. It is adapted from the [official TensorFlow tutorial](https://www.tensorflow.org/tutorials/quickstart/beginner). \n",
        "At the end of the tutorial, given an image of a digit, you will be able to predict which digit it is. You will also understand the principal steps to train a neural network model."
      ]
    },
    {
      "cell_type": "markdown",
      "metadata": {
        "id": "4tvwAKyw5QWY",
        "colab_type": "text"
      },
      "source": [
        "# TensorFlow quickstart for beginners"
      ]
    },
    {
      "cell_type": "markdown",
      "metadata": {
        "id": "sK-fS-AJ5mWM",
        "colab_type": "text"
      },
      "source": [
        "This short introduction uses [Keras](https://www.tensorflow.org/guide/keras/overview) to:\n",
        "\n",
        "1. Build a neural network that classifies images.\n",
        "2. Train this neural network.\n",
        "3. And, finally, evaluate the accuracy of the model."
      ]
    },
    {
      "cell_type": "markdown",
      "metadata": {
        "id": "RlDa6QQU50hP",
        "colab_type": "text"
      },
      "source": [
        "This is a [Google Colaboratory](https://colab.research.google.com/notebooks/welcome.ipynb) notebook file. Python programs are run directly in the browser—a great way to learn and use TensorFlow. To follow this tutorial, run the notebook in Google Colab by clicking the button at the top of this page.\n",
        "\n",
        "1. In Colab, connect to a Python runtime: At the top-right of the menu bar, select *CONNECT*.\n",
        "2. Run all the notebook code cells: Select *Runtime* > *Run all*."
      ]
    },
    {
      "cell_type": "markdown",
      "metadata": {
        "id": "oriwlMT26Z3Q",
        "colab_type": "text"
      },
      "source": [
        "Import tensorflow 2.0 package:"
      ]
    },
    {
      "cell_type": "code",
      "metadata": {
        "id": "5uKybcRc7IRA",
        "colab_type": "code",
        "colab": {}
      },
      "source": [
        "# Install TensorFlow\n",
        "try:\n",
        "  # %tensorflow_version only exists in Colab.\n",
        "  %tensorflow_version 2.x\n",
        "except Exception:\n",
        "  pass\n",
        "\n",
        "import tensorflow as tf"
      ],
      "execution_count": 0,
      "outputs": []
    },
    {
      "cell_type": "code",
      "metadata": {
        "id": "jU24ScWGLZYn",
        "colab_type": "code",
        "colab": {}
      },
      "source": [
        "# Load the TensorBoard notebook extension\n",
        "%load_ext tensorboard"
      ],
      "execution_count": 0,
      "outputs": []
    },
    {
      "cell_type": "code",
      "metadata": {
        "id": "qw-zmSNX_Pud",
        "colab_type": "code",
        "colab": {}
      },
      "source": [
        "import matplotlib.pyplot as plt\n",
        "import os\n",
        "import datetime\n",
        "import numpy as np"
      ],
      "execution_count": 0,
      "outputs": []
    },
    {
      "cell_type": "markdown",
      "metadata": {
        "id": "fImzkFnA-dA1",
        "colab_type": "text"
      },
      "source": [
        "## MNIST DATASET"
      ]
    },
    {
      "cell_type": "markdown",
      "metadata": {
        "id": "6Px9GMAc6Tc5",
        "colab_type": "text"
      },
      "source": [
        "Load and prepare the [MNIST dataset](http://yann.lecun.com/exdb/mnist/). \n",
        "\n",
        "The dataset is already split into train set and test set."
      ]
    },
    {
      "cell_type": "code",
      "metadata": {
        "id": "MNJ6atuT4xoG",
        "colab_type": "code",
        "colab": {}
      },
      "source": [
        "mnist = tf.keras.datasets.mnist\n",
        "\n",
        "(x_train, y_train), (x_test, y_test) = mnist.load_data()"
      ],
      "execution_count": 0,
      "outputs": []
    },
    {
      "cell_type": "markdown",
      "metadata": {
        "id": "GUACcmKd_J0G",
        "colab_type": "text"
      },
      "source": [
        "Show some example images:"
      ]
    },
    {
      "cell_type": "code",
      "metadata": {
        "id": "VbyJR25t_NiA",
        "colab_type": "code",
        "colab": {}
      },
      "source": [
        "n_samples = 5\n",
        "for i in range(n_samples):\n",
        "  plt.subplot(1, n_samples, i+1)\n",
        "  plt.imshow(x_train[i], cmap='gray')\n",
        "  plt.axis('off')"
      ],
      "execution_count": 0,
      "outputs": []
    },
    {
      "cell_type": "markdown",
      "metadata": {
        "id": "zqDy0cNv-tOu",
        "colab_type": "text"
      },
      "source": [
        "Convert the samples from integers to floating-point numbers:"
      ]
    },
    {
      "cell_type": "code",
      "metadata": {
        "id": "VyDv2mlg-yiT",
        "colab_type": "code",
        "colab": {}
      },
      "source": [
        "x_train, x_test = x_train / 255.0, x_test / 255.0"
      ],
      "execution_count": 0,
      "outputs": []
    },
    {
      "cell_type": "markdown",
      "metadata": {
        "id": "i1yrKQpC-hax",
        "colab_type": "text"
      },
      "source": [
        "## Build model"
      ]
    },
    {
      "cell_type": "markdown",
      "metadata": {
        "id": "Ej3iHn237kg3",
        "colab_type": "text"
      },
      "source": [
        "Build the `tf.keras.Sequential` model by stacking layers and choosing an optimizer and loss function for training.\n",
        "\n",
        "Keras is a library running on top of TensorFlow that allows to abstract a lot of Tensorflow's internal cooking. It has been intergrated to TensorFlow's core and is the preferred method to develop deep learning models quickly. \n",
        "\n",
        "In this example we will stack 2 dense layers, meaning layers which neurons are all connected to the previous layer.\n",
        "\n",
        "\n",
        "\n",
        "\n"
      ]
    },
    {
      "cell_type": "markdown",
      "metadata": {
        "id": "XWV_t63lLIQP",
        "colab_type": "text"
      },
      "source": [
        "1. First we flatten our input image which has shape 28 x 28 to be of shape 1 x 784. \n",
        "2. Then a dense layer with 128 output neurons is added, with a [ReLU activation](https://en.wikipedia.org/wiki/Rectifier_(neural_networks)) (in order to introduce some non-linearities). \n",
        "3. A dropout layer is added to randomly drop some connections (here 20%) and prevent overfitting.\n",
        "4. The last layer is a dense layer which has 10 output neurons, which correspond to the number of classes we have and a softmax activation. The softmax will normalize it into a probability distribution, which means each output will have a value between 0 and 1 and the sum of all output values will add up to 1."
      ]
    },
    {
      "cell_type": "code",
      "metadata": {
        "id": "i1XirFD67Z6J",
        "colab_type": "code",
        "colab": {}
      },
      "source": [
        "model = tf.keras.models.Sequential([\n",
        "  tf.keras.layers.Flatten(input_shape=(28, 28)),\n",
        "  tf.keras.layers.Dense(128, activation='relu'),\n",
        "  tf.keras.layers.Dropout(0.2),\n",
        "  tf.keras.layers.Dense(10, activation='softmax')\n",
        "])\n",
        "\n",
        "model.compile(optimizer='adam',\n",
        "              loss='sparse_categorical_crossentropy',\n",
        "              metrics=['accuracy'])"
      ],
      "execution_count": 0,
      "outputs": []
    },
    {
      "cell_type": "markdown",
      "metadata": {
        "id": "qwu8LWFaAito",
        "colab_type": "text"
      },
      "source": [
        "The loss function is the function the network will optimize, in this case it is the crossentropy\n",
        "\\begin{equation}\n",
        "CE = \\sum_i^C t_i \\log s_i\n",
        "\\end{equation}\n",
        "where $t_i$ is the groundtruth and $s_i$ are the outputs of the model (scores) and $C$ the number of classes (10 for MNIST)."
      ]
    },
    {
      "cell_type": "markdown",
      "metadata": {
        "id": "7SZWqccjGJlB",
        "colab_type": "text"
      },
      "source": [
        "The loss function will be minimized using the `adam` method , which will take care of updating the weights of your model in order to reduce the loss."
      ]
    },
    {
      "cell_type": "markdown",
      "metadata": {
        "id": "UINONcjTKZ8k",
        "colab_type": "text"
      },
      "source": [
        "The metric we will use to measure the progress of the training is the accuracy which computes the number of correctly classified images with respect to the total number of images."
      ]
    },
    {
      "cell_type": "code",
      "metadata": {
        "id": "vS71mc3eoIJP",
        "colab_type": "code",
        "colab": {}
      },
      "source": [
        "model.build(input_shape=(None, 28, 28))\n",
        "model.summary()"
      ],
      "execution_count": 0,
      "outputs": []
    },
    {
      "cell_type": "markdown",
      "metadata": {
        "id": "pW-cAa5z-lL6",
        "colab_type": "text"
      },
      "source": [
        "## Train model"
      ]
    },
    {
      "cell_type": "markdown",
      "metadata": {
        "id": "CE89GMmiMBUT",
        "colab_type": "text"
      },
      "source": [
        "We create a Tensorbord callback in order to visualize the training and the model."
      ]
    },
    {
      "cell_type": "code",
      "metadata": {
        "id": "-S_xtc8XLlkl",
        "colab_type": "code",
        "colab": {}
      },
      "source": [
        "logdir = os.path.join(\"logs\", datetime.datetime.now().strftime(\"%Y%m%d-%H%M%S\"))\n",
        "tensorboard_callback = tf.keras.callbacks.TensorBoard(logdir, histogram_freq=1)"
      ],
      "execution_count": 0,
      "outputs": []
    },
    {
      "cell_type": "markdown",
      "metadata": {
        "id": "BYD6xACp-B6e",
        "colab_type": "text"
      },
      "source": [
        "Train the model for 5 epochs:"
      ]
    },
    {
      "cell_type": "code",
      "metadata": {
        "id": "iJwhlHll-EK7",
        "colab_type": "code",
        "colab": {}
      },
      "source": [
        "model.fit(x=x_train, \n",
        "          y=y_train, \n",
        "          epochs=5,\n",
        "          # validation_data=(x_test, y_test), \n",
        "          callbacks=[tensorboard_callback])"
      ],
      "execution_count": 0,
      "outputs": []
    },
    {
      "cell_type": "markdown",
      "metadata": {
        "id": "CaiPcRes-Es8",
        "colab_type": "text"
      },
      "source": [
        "Evaluate the model:"
      ]
    },
    {
      "cell_type": "code",
      "metadata": {
        "id": "i1P1iLSI-G-b",
        "colab_type": "code",
        "colab": {}
      },
      "source": [
        "model.evaluate(x_test,  y_test, verbose=2)"
      ],
      "execution_count": 0,
      "outputs": []
    },
    {
      "cell_type": "markdown",
      "metadata": {
        "id": "OEWDvsRqMQl9",
        "colab_type": "text"
      },
      "source": [
        "## Tensorboard visualization"
      ]
    },
    {
      "cell_type": "code",
      "metadata": {
        "id": "BPxqw8mhMUvC",
        "colab_type": "code",
        "colab": {}
      },
      "source": [
        "%tensorboard --logdir logs"
      ],
      "execution_count": 0,
      "outputs": []
    },
    {
      "cell_type": "code",
      "metadata": {
        "id": "JxHKgosGMlQP",
        "colab_type": "code",
        "colab": {}
      },
      "source": [
        "# Control TensorBoard display. If no port is provided, \n",
        "# the most recently launched TensorBoard is used\n",
        "# notebook.display(port=6006, height=1000) "
      ],
      "execution_count": 0,
      "outputs": []
    },
    {
      "cell_type": "markdown",
      "metadata": {
        "id": "pFfQ4sy1vRfU",
        "colab_type": "text"
      },
      "source": [
        "## Predict"
      ]
    },
    {
      "cell_type": "code",
      "metadata": {
        "id": "6zpTuMABv-1L",
        "colab_type": "code",
        "colab": {}
      },
      "source": [
        "img_to_predict = x_test[42]\n",
        "\n",
        "plt.imshow(img_to_predict, cmap='gray')"
      ],
      "execution_count": 0,
      "outputs": []
    },
    {
      "cell_type": "markdown",
      "metadata": {
        "id": "a532tELLwPjr",
        "colab_type": "text"
      },
      "source": [
        "The network outputs a probability distribution, so to know which is the most probable class, we need to look at the class with the highest probability (``argmax``)"
      ]
    },
    {
      "cell_type": "code",
      "metadata": {
        "id": "l4UZBbIjvUH3",
        "colab_type": "code",
        "colab": {}
      },
      "source": [
        "np.argmax(model.predict(img_to_predict[None]))"
      ],
      "execution_count": 0,
      "outputs": []
    },
    {
      "cell_type": "markdown",
      "metadata": {
        "id": "iWpLIQ8qkFvt",
        "colab_type": "text"
      },
      "source": [
        "# Exercice with convolutional model\n",
        "Try to change the model to use convolutional layer `tf.keras.layers.Conv2D` combined with `tf.keras.layers.MaxPooling2D`.\n",
        "\n",
        "An example of model could be :\n",
        "- conv [n=8, k=3]\n",
        "- conv [n=16, k=3]\n",
        "- maxpool\n",
        "- conv [n=32, k=3]\n",
        "- maxpool\n",
        "- dense [n=10]"
      ]
    },
    {
      "cell_type": "code",
      "metadata": {
        "id": "fzJY5j0dw2wz",
        "colab_type": "code",
        "colab": {}
      },
      "source": [
        "model = tf.keras.models.Sequential([\n",
        "  tf.keras.layers.Lambda(lambda x: tf.expand_dims(x, axis=-1)), # add a channel dimension\n",
        "  # todo : convolutional layers\n",
        "  tf.keras.layers.Flatten(input_shape=(5, 5, 32)), # flatten the input to pass it to the dense layers\n",
        "  # todo : dense layers + softmax activation at the very end\n",
        "])\n",
        "\n",
        "model.compile(optimizer='adam',\n",
        "              loss='sparse_categorical_crossentropy',\n",
        "              metrics=['accuracy'])"
      ],
      "execution_count": 0,
      "outputs": []
    },
    {
      "cell_type": "markdown",
      "metadata": {
        "id": "U-KIjKpMwR-a",
        "colab_type": "text"
      },
      "source": [
        "Compare the number of parameters needed for the convolutional model and the dense model."
      ]
    },
    {
      "cell_type": "code",
      "metadata": {
        "id": "TNPoiemsoZDX",
        "colab_type": "code",
        "colab": {}
      },
      "source": [
        "# TODO complete"
      ],
      "execution_count": 0,
      "outputs": []
    }
  ]
}