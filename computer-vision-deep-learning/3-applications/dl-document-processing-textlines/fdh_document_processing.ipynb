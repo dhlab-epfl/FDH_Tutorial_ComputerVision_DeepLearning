{
  "nbformat": 4,
  "nbformat_minor": 0,
  "metadata": {
    "colab": {
      "name": "fdh-document-processing.ipynb",
      "provenance": [],
      "collapsed_sections": [],
      "toc_visible": true
    },
    "kernelspec": {
      "name": "python3",
      "display_name": "Python 3"
    }
  },
  "cells": [
    {
      "cell_type": "markdown",
      "metadata": {
        "id": "642TmkQJzyp6",
        "colab_type": "text"
      },
      "source": [
        "# Historical document : page and line extraction\n",
        "\n",
        "[![Open In Colab](https://colab.research.google.com/assets/colab-badge.svg)](https://colab.research.google.com/drive/17k4FlJlwxVht7QhT9GKmitQni_e9evce)\n",
        "\n",
        "You should open this jupyter in Colab in order to have acess to GPUs.\n",
        "\n",
        "In this tutorial you will use the [dhSegment package](https://github.com/dhlab-epfl/dhSegment), which is a tool for segmentation of historical documents."
      ]
    },
    {
      "cell_type": "markdown",
      "metadata": {
        "id": "AVO6qjfk1iCE",
        "colab_type": "text"
      },
      "source": [
        "## Installation and downloads"
      ]
    },
    {
      "cell_type": "markdown",
      "metadata": {
        "id": "UCB9VgLPz_p3",
        "colab_type": "text"
      },
      "source": [
        "Before running this notebook, you need to install the dhSegment package:"
      ]
    },
    {
      "cell_type": "code",
      "metadata": {
        "id": "qMPwcfXgppM_",
        "colab_type": "code",
        "colab": {}
      },
      "source": [
        "!pip install git+https://github.com/dhlab-epfl/dhSegment\n"
      ],
      "execution_count": 0,
      "outputs": []
    },
    {
      "cell_type": "markdown",
      "metadata": {
        "id": "dM4fsH-c1ufN",
        "colab_type": "text"
      },
      "source": [
        "The models that you will use were already trained (on the READ-BAD dataset), so you'll have to donwload them.\n",
        "\n",
        "Download and unzip model.zip from https://github.com/dhlab-epfl/dhSegment/releases/tag/v0.2 for a page extraction model."
      ]
    },
    {
      "cell_type": "code",
      "metadata": {
        "id": "fZX7aWIT1-Us",
        "colab_type": "code",
        "colab": {}
      },
      "source": [
        "!wget https://github.com/dhlab-epfl/dhSegment/releases/download/v0.2/model.zip\n",
        "!unzip model.zip"
      ],
      "execution_count": 0,
      "outputs": []
    },
    {
      "cell_type": "code",
      "metadata": {
        "id": "R9M9ohg4ANKv",
        "colab_type": "code",
        "colab": {}
      },
      "source": [
        "! wget https://github.com/dhlab-epfl/fdh-tutorials/releases/download/v0.1/line_model.zip\n",
        "!unzip line_model.zip"
      ],
      "execution_count": 0,
      "outputs": []
    },
    {
      "cell_type": "markdown",
      "metadata": {
        "id": "r01Ktor-30Zz",
        "colab_type": "text"
      },
      "source": [
        "Download a few images to process:"
      ]
    },
    {
      "cell_type": "code",
      "metadata": {
        "id": "l68J08gG34RH",
        "colab_type": "code",
        "colab": {}
      },
      "source": [
        "!mkdir images\n",
        "!wget https://raw.githubusercontent.com/dhlab-epfl/fdh-tutorials/master/computer-vision-deep-learning/3-applications/dl-document-processing-textlines/images/002_451_001.jpg -P images\n",
        "!wget https://raw.githubusercontent.com/dhlab-epfl/fdh-tutorials/master/computer-vision-deep-learning/3-applications/dl-document-processing-textlines/images/0167.jpg -P images\n",
        "!wget https://raw.githubusercontent.com/dhlab-epfl/fdh-tutorials/master/computer-vision-deep-learning/3-applications/dl-document-processing-textlines/images/RT_Aigen_am_Inn_013_0127.jpg -P images"
      ],
      "execution_count": 0,
      "outputs": []
    },
    {
      "cell_type": "markdown",
      "metadata": {
        "id": "jZOT7jv21lVK",
        "colab_type": "text"
      },
      "source": [
        "## Page extraction"
      ]
    },
    {
      "cell_type": "code",
      "metadata": {
        "id": "pxRHOtNc4nve",
        "colab_type": "code",
        "colab": {}
      },
      "source": [
        "from skimage import io\n",
        "import numpy as np\n",
        "import matplotlib.pyplot as plt\n",
        "from skimage.transform import resize\n",
        "import tensorflow as tf"
      ],
      "execution_count": 0,
      "outputs": []
    },
    {
      "cell_type": "code",
      "metadata": {
        "id": "AX4ZliE4zh3d",
        "colab_type": "code",
        "colab": {}
      },
      "source": [
        "import dh_segment\n",
        "from dh_segment.inference import LoadedModel\n",
        "from dh_segment.io import PAGE\n",
        "from dh_segment.post_processing import thresholding, cleaning_binary, cleaning_probs"
      ],
      "execution_count": 0,
      "outputs": []
    },
    {
      "cell_type": "markdown",
      "metadata": {
        "id": "kRmcAr3d4es9",
        "colab_type": "text"
      },
      "source": [
        "Show one image:"
      ]
    },
    {
      "cell_type": "code",
      "metadata": {
        "id": "fJlvI5Oe4hOY",
        "colab_type": "code",
        "colab": {}
      },
      "source": [
        "image_filename = '/content/images/0167.jpg'\n",
        "img = io.imread(image_filename)\n",
        "plt.figure(figsize=(10,10))\n",
        "plt.imshow(img)"
      ],
      "execution_count": 0,
      "outputs": []
    },
    {
      "cell_type": "markdown",
      "metadata": {
        "id": "zUvpB75N6VrQ",
        "colab_type": "text"
      },
      "source": [
        "Load the model to extract page"
      ]
    },
    {
      "cell_type": "code",
      "metadata": {
        "id": "KabPzVNC2VZU",
        "colab_type": "code",
        "colab": {}
      },
      "source": [
        "sess1 = tf.InteractiveSession()\n",
        "with sess1.graph.as_default():\n",
        "    model_page = LoadedModel(\"/content/model/\")"
      ],
      "execution_count": 0,
      "outputs": []
    },
    {
      "cell_type": "markdown",
      "metadata": {
        "id": "BHCN2z8u6lZB",
        "colab_type": "text"
      },
      "source": [
        "\n",
        "You'll feed the image to the network:\n"
      ]
    },
    {
      "cell_type": "code",
      "metadata": {
        "id": "1wcVZBPA6cn2",
        "colab_type": "code",
        "colab": {}
      },
      "source": [
        "output_page = model_page.predict(image_filename)"
      ],
      "execution_count": 0,
      "outputs": []
    },
    {
      "cell_type": "markdown",
      "metadata": {
        "id": "UiOqQ3wa6wg6",
        "colab_type": "text"
      },
      "source": [
        "The predict method returns a dictionary with keys :\n",
        "\n",
        "- ``probs`` : the probability maps\n",
        "- ``original_shape`` : the shape of the original image\n",
        "- ``labels`` : the labels (the binary prediction, i.e thresholded probs)\n",
        "\n",
        "The probability maps that is of interest for us in in the channel 1 (``output_page['probs'][0,:,:,1]``)\n"
      ]
    },
    {
      "cell_type": "code",
      "metadata": {
        "id": "_VdURFyQ6ycx",
        "colab_type": "code",
        "colab": {}
      },
      "source": [
        "page_probs = output_page['probs'][0,:,:,1]\n",
        "plt.figure(figsize=(10,10))\n",
        "plt.imshow(page_probs)"
      ],
      "execution_count": 0,
      "outputs": []
    },
    {
      "cell_type": "markdown",
      "metadata": {
        "id": "QkXCxn-Y7H4p",
        "colab_type": "text"
      },
      "source": [
        "### Page map probabilty post-processing\n",
        "\n",
        "\n",
        "First we need to threshold the probabilities to obtain a binary image (``thresholding``) and then the binary image is cleaned in order to remove small elements (``cleaning_binary``).\n",
        "\n",
        "We then need to obtain the coordinates of the page\n"
      ]
    },
    {
      "cell_type": "code",
      "metadata": {
        "id": "xdKl4Lu27D_e",
        "colab_type": "code",
        "colab": {}
      },
      "source": [
        "page_mask = thresholding(page_probs, threshold=0.7)\n",
        "page_mask = cleaning_binary(page_mask, kernel_size=7).astype(np.uint8)*255\n",
        "plt.figure(figsize=(10,10))\n",
        "plt.imshow(page_mask)"
      ],
      "execution_count": 0,
      "outputs": []
    },
    {
      "cell_type": "markdown",
      "metadata": {
        "id": "cHfkEgt07YwI",
        "colab_type": "text"
      },
      "source": [
        "### Find and save the coordinates of the page"
      ]
    },
    {
      "cell_type": "code",
      "metadata": {
        "id": "xLVFWAhL7Qfl",
        "colab_type": "code",
        "colab": {}
      },
      "source": [
        "from dh_segment.post_processing import boxes_detection\n",
        "page_coords = boxes_detection.find_boxes(resize(page_mask, img.shape[:2]).astype(np.uint8), n_max_boxes=1)"
      ],
      "execution_count": 0,
      "outputs": []
    },
    {
      "cell_type": "markdown",
      "metadata": {
        "id": "83wWvjce7nUS",
        "colab_type": "text"
      },
      "source": [
        "The ``PAGE.Page`` object is a class representing a historical document page with its ``TextRegions``, ``TextLines``, ``Border``, etc."
      ]
    },
    {
      "cell_type": "code",
      "metadata": {
        "id": "PQP65QGj7kAQ",
        "colab_type": "code",
        "colab": {}
      },
      "source": [
        "PAGE_info = PAGE.Page(image_width=img.shape[1], image_height=img.shape[0],\n",
        "                      page_border=PAGE.Border(PAGE.Point.list_to_point(list(page_coords))))"
      ],
      "execution_count": 0,
      "outputs": []
    },
    {
      "cell_type": "code",
      "metadata": {
        "id": "QoQdz9jq7xMB",
        "colab_type": "code",
        "colab": {}
      },
      "source": [
        "plot_img = img.copy()\n",
        "PAGE_info.draw_page_border(plot_img, autoscale=True, fill=False, thickness=15)\n",
        "plt.figure(figsize=(10,10))\n",
        "plt.imshow(plot_img)"
      ],
      "execution_count": 0,
      "outputs": []
    },
    {
      "cell_type": "markdown",
      "metadata": {
        "id": "W-CxDN0b_5xz",
        "colab_type": "text"
      },
      "source": [
        "## Texline detection\n",
        "Now that we have extracted the page, we'd like to extract the text lines, so again ge call ``predict`` function"
      ]
    },
    {
      "cell_type": "code",
      "metadata": {
        "id": "sq-0UTnW75vr",
        "colab_type": "code",
        "colab": {}
      },
      "source": [
        "sess2 = tf.InteractiveSession(graph=tf.Graph()) # New Graph need to be initialized in the session 2\n",
        "with sess2.graph.as_default():\n",
        "    model_textline = LoadedModel(\"/content/polylines/\")"
      ],
      "execution_count": 0,
      "outputs": []
    },
    {
      "cell_type": "code",
      "metadata": {
        "id": "1Ph0MoeAAWcc",
        "colab_type": "code",
        "colab": {}
      },
      "source": [
        "output_textline = model_textline.predict(image_filename)"
      ],
      "execution_count": 0,
      "outputs": []
    },
    {
      "cell_type": "code",
      "metadata": {
        "id": "oAX3CwqFAbdM",
        "colab_type": "code",
        "colab": {}
      },
      "source": [
        "textline_probs = output_textline['probs'][0,:,:,1]\n",
        "plt.figure(figsize=(10,10))\n",
        "plt.imshow(textline_probs)"
      ],
      "execution_count": 0,
      "outputs": []
    },
    {
      "cell_type": "markdown",
      "metadata": {
        "id": "FTe6PswBAeax",
        "colab_type": "text"
      },
      "source": [
        "### Line map probabilty post-processing\n",
        "We will use the binary mask we extracted in the previous section to eliminate the lines belonging to the left page that were wrongly detected."
      ]
    },
    {
      "cell_type": "code",
      "metadata": {
        "id": "TvP2T-gVAdY0",
        "colab_type": "code",
        "colab": {}
      },
      "source": [
        "from dh_segment.post_processing import hysteresis_thresholding\n",
        "\n",
        "textline_probs2 = cleaning_probs(textline_probs, 2)\n",
        "extracted_page_mask = np.zeros(textline_probs.shape, dtype=np.uint8)\n",
        "PAGE_info.draw_page_border(extracted_page_mask, color=(255,))\n",
        "textline_mask = hysteresis_thresholding(textline_probs2, low_threshold=0.3, high_threshold=0.6,\n",
        "                                        candidates_mask=extracted_page_mask>0\n",
        "                                       )"
      ],
      "execution_count": 0,
      "outputs": []
    },
    {
      "cell_type": "code",
      "metadata": {
        "id": "vP3VDPjqAlSd",
        "colab_type": "code",
        "colab": {}
      },
      "source": [
        "plt.figure(figsize=(10,10))\n",
        "plt.imshow(textline_mask)"
      ],
      "execution_count": 0,
      "outputs": []
    },
    {
      "cell_type": "markdown",
      "metadata": {
        "id": "ecUCvnBmAq8w",
        "colab_type": "text"
      },
      "source": [
        "### Find the lines, vectorize and save them"
      ]
    },
    {
      "cell_type": "code",
      "metadata": {
        "id": "JnbAaKV1An6F",
        "colab_type": "code",
        "colab": {}
      },
      "source": [
        "from dh_segment.post_processing import line_vectorization\n",
        "\n",
        "lines = line_vectorization.find_lines(resize(textline_mask, img.shape[:2]))"
      ],
      "execution_count": 0,
      "outputs": []
    },
    {
      "cell_type": "markdown",
      "metadata": {
        "id": "vFdwTd-7A6Sq",
        "colab_type": "text"
      },
      "source": [
        "In the ``Page`` structure, ``TextLines`` are always contained in ``TextRegion`` object, so first we create a ``TextRegion`` object which ``TextLines`` are the ones we just extracted."
      ]
    },
    {
      "cell_type": "code",
      "metadata": {
        "id": "sgQKkr-qAt0u",
        "colab_type": "code",
        "colab": {}
      },
      "source": [
        "text_region = PAGE.TextRegion()\n",
        "text_region.text_lines = [PAGE.TextLine.from_array(line) for line in lines]\n",
        "PAGE_info.text_regions.append(text_region)"
      ],
      "execution_count": 0,
      "outputs": []
    },
    {
      "cell_type": "markdown",
      "metadata": {
        "id": "EnTq47fLA-uA",
        "colab_type": "text"
      },
      "source": [
        "## Visualize the final result"
      ]
    },
    {
      "cell_type": "code",
      "metadata": {
        "id": "ZuFSDNiHA80R",
        "colab_type": "code",
        "colab": {}
      },
      "source": [
        "plot_img = img.copy()\n",
        "PAGE_info.draw_page_border(plot_img, autoscale=True, fill=False, thickness=15)\n",
        "PAGE_info.draw_lines(plot_img, autoscale=True, fill=False, thickness=15, color=(0,255,0))\n",
        "plt.figure(figsize=(15,15))\n",
        "plt.imshow(plot_img)"
      ],
      "execution_count": 0,
      "outputs": []
    },
    {
      "cell_type": "code",
      "metadata": {
        "id": "UyPkFSHgBC5R",
        "colab_type": "code",
        "colab": {}
      },
      "source": [
        ""
      ],
      "execution_count": 0,
      "outputs": []
    }
  ]
}